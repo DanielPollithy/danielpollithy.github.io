{
 "cells": [
  {
   "cell_type": "markdown",
   "metadata": {},
   "source": [
    "# Intro to Cython\n",
    "\n",
    "Python is not the fastest. Everything is an object and all of them are implemented as a dictionary. Numpy's vectorized matrix operations can speed up a lot of things. Especially for-loops should not be written. But in the case when they can't be avoided (for example convolutional filters) the Cython package comes in handy.\n",
    "\n",
    "The following snippets show how Cython works and compare the runtime of python code and cython code.\n",
    "\n",
    "I am going to use the jupyter notebook extension for this post: [ipython cython docs](https://ipython.org/ipython-doc/2/config/extensions/cythonmagic.html)."
   ]
  },
  {
   "cell_type": "code",
   "execution_count": 25,
   "metadata": {},
   "outputs": [],
   "source": [
    "%matplotlib inline\n",
    "\n",
    "#Install cython\n",
    "# !python -m pip install Cython"
   ]
  },
  {
   "cell_type": "code",
   "execution_count": 14,
   "metadata": {},
   "outputs": [
    {
     "name": "stdout",
     "output_type": "stream",
     "text": [
      "The Cython extension is already loaded. To reload it, use:\n",
      "  %reload_ext Cython\n"
     ]
    }
   ],
   "source": [
    "%load_ext Cython"
   ]
  },
  {
   "cell_type": "code",
   "execution_count": 17,
   "metadata": {},
   "outputs": [
    {
     "name": "stdout",
     "output_type": "stream",
     "text": [
      "Python list\n",
      "[2, 3, 5, 7, 11, 13, 17, 19, 23, 29]\n",
      "\n",
      "Python numpy\n",
      "[ 2  3  5  7 11 13 17 19 23 29]\n",
      "\n",
      "Cython\n",
      "[ 2  3  5  7 11 13 17 19 23 29]\n",
      "\n"
     ]
    }
   ],
   "source": [
    "%%cython\n",
    "\n",
    "# Write the same function twice: once for python and the other time for cython\n",
    "# \n",
    "# Let's build functions to find prime numbers\n",
    "\n",
    "# cimport includes the Numpy header files in order to access the numpy array declaration\n",
    "# there would have also been the python array implementation\n",
    "cimport numpy as np\n",
    "# this is just the regular numpy python module\n",
    "import numpy as np\n",
    "\n",
    "# cdef declares a c function body whereis a normal def has to be wrapped\n",
    "def get_primes_cython(int n):\n",
    "    \n",
    "    # a cdef block does all of the magic!\n",
    "    # => this is the only real difference\n",
    "    cdef:\n",
    "        np.ndarray[np.int32_t, ndim=1] primes = np.zeros(n, dtype=np.int32)\n",
    "        int i = 0;\n",
    "        int last_prime = 2;\n",
    "        int candidate = 1;\n",
    "        int is_ok = 1;\n",
    "    \n",
    "    # collect n primes\n",
    "    while (i<n):\n",
    "        candidate += 1;\n",
    "        is_ok = 1;\n",
    "        \n",
    "        # check if candidate is divisable by any number in old primes\n",
    "        for c in range(i):\n",
    "            # check\n",
    "            if candidate % primes[c] == 0:\n",
    "                is_ok = 0;\n",
    "                break;\n",
    "\n",
    "        # candidate was not divisable\n",
    "        if is_ok == 1:\n",
    "            primes[i] = candidate;\n",
    "            i += 1;\n",
    "    \n",
    "    return primes;\n",
    "\n",
    "# python implementation\n",
    "def get_primes_python(n, use_numpy_array=False):\n",
    "    \n",
    "    # use numpy array or normal list\n",
    "    if use_numpy_array:\n",
    "        primes = np.zeros(n, dtype=np.int)\n",
    "    else:\n",
    "        primes = [0]*n\n",
    "        \n",
    "    # we use normal python variables here -> all of them are some kind of wrapped objects\n",
    "    i = 0\n",
    "    last_prime = 2\n",
    "    candidate = 1\n",
    "    is_ok = 1\n",
    "    \n",
    "    while i<n:\n",
    "        candidate += 1\n",
    "        is_ok = 1\n",
    "        \n",
    "        # check if candidate is divisable by any number in old primes\n",
    "        for c in range(i):\n",
    "            # check\n",
    "            if candidate % primes[c] == 0:\n",
    "                is_ok = 0;\n",
    "                break;\n",
    "            \n",
    "        \n",
    "        \n",
    "        # candidate was not divisable\n",
    "        if is_ok == 1:\n",
    "            primes[i] = candidate;\n",
    "            i += 1;\n",
    "            \n",
    "    return primes\n",
    "\n",
    "# draw a sampe\n",
    "print('Python list')\n",
    "print(get_primes_python(10))\n",
    "print('')\n",
    "print('Python numpy')\n",
    "print(get_primes_python(10, use_numpy_array=True))\n",
    "print('')\n",
    "print('Cython')\n",
    "print(get_primes_cython(10))\n",
    "print('')"
   ]
  },
  {
   "cell_type": "code",
   "execution_count": 18,
   "metadata": {},
   "outputs": [
    {
     "name": "stdout",
     "output_type": "stream",
     "text": [
      "Number of different primes: 0\n"
     ]
    }
   ],
   "source": [
    "# are the results equal?\n",
    "not_equal_elements = np.asarray(get_primes_cython(100) != get_primes_python(100), dtype=np.int)\n",
    "sum_not_eq_elems = np.sum(not_equal_elements)\n",
    "\n",
    "print('Number of different primes: {}'.format(sum_not_eq_elems))"
   ]
  },
  {
   "cell_type": "markdown",
   "metadata": {},
   "source": [
    "## Timings\n",
    "\n",
    "Now that we have the three possible combinations (cython, python with list, python with numpy array) we can evaluate the performance. Let's look at three things:\n",
    "\n",
    "1. Get only one prime number: How long does it take to wrap parameters and call the method?\n",
    "2. Get 10.000 primes: Medium difficulty\n",
    "3. Get 100.000 primes: Really long runtime"
   ]
  },
  {
   "cell_type": "code",
   "execution_count": 54,
   "metadata": {},
   "outputs": [
    {
     "name": "stdout",
     "output_type": "stream",
     "text": [
      "The slowest run took 21.99 times longer than the fastest. This could mean that an intermediate result is being cached.\n",
      "1000000 loops, best of 3: 271 ns per loop\n"
     ]
    }
   ],
   "source": [
    "%%timeit\n",
    "get_primes_python(1)"
   ]
  },
  {
   "cell_type": "code",
   "execution_count": 55,
   "metadata": {},
   "outputs": [
    {
     "name": "stdout",
     "output_type": "stream",
     "text": [
      "The slowest run took 12.00 times longer than the fastest. This could mean that an intermediate result is being cached.\n",
      "100000 loops, best of 3: 1.99 µs per loop\n"
     ]
    }
   ],
   "source": [
    "%%timeit\n",
    "get_primes_python(1, use_numpy_array=True)"
   ]
  },
  {
   "cell_type": "code",
   "execution_count": 57,
   "metadata": {},
   "outputs": [
    {
     "name": "stdout",
     "output_type": "stream",
     "text": [
      "The slowest run took 12.76 times longer than the fastest. This could mean that an intermediate result is being cached.\n",
      "100000 loops, best of 3: 1.94 µs per loop\n"
     ]
    }
   ],
   "source": [
    "%%timeit\n",
    "get_primes_cython(1)"
   ]
  },
  {
   "cell_type": "markdown",
   "metadata": {},
   "source": [
    "### 1. Method wrapping and list differences\n",
    "\n",
    "The timeit module runs the cell 100.000 times. Best of three for the different methods were:\n",
    "\n",
    "1. python with list(): 271 ns per loop\n",
    "2. cython: 1.94 µs per loop\n",
    "3. python with numpy: 1.99 µs per loop\n",
    "\n",
    "2 & 3 are pretty close to each others therefore I guess that the time comes from their interception: the numpy array.\n",
    "\n",
    "----------------------"
   ]
  },
  {
   "cell_type": "code",
   "execution_count": 64,
   "metadata": {},
   "outputs": [
    {
     "name": "stdout",
     "output_type": "stream",
     "text": [
      "CPU times: user 5.69 s, sys: 0 ns, total: 5.69 s\n",
      "Wall time: 5.69 s\n"
     ]
    }
   ],
   "source": [
    "%%time\n",
    "a = get_primes_python(10000)"
   ]
  },
  {
   "cell_type": "code",
   "execution_count": 65,
   "metadata": {},
   "outputs": [
    {
     "name": "stdout",
     "output_type": "stream",
     "text": [
      "CPU times: user 20 s, sys: 0 ns, total: 20 s\n",
      "Wall time: 20 s\n"
     ]
    }
   ],
   "source": [
    "%%time\n",
    "a = get_primes_python(10000, use_numpy_array=True)"
   ]
  },
  {
   "cell_type": "code",
   "execution_count": 68,
   "metadata": {},
   "outputs": [
    {
     "name": "stdout",
     "output_type": "stream",
     "text": [
      "CPU times: user 258 ms, sys: 0 ns, total: 258 ms\n",
      "Wall time: 258 ms\n"
     ]
    }
   ],
   "source": [
    "%%time\n",
    "a = get_primes_cython(10000)"
   ]
  },
  {
   "cell_type": "markdown",
   "metadata": {},
   "source": [
    "### 2. Medium load\n",
    "\n",
    "The time module runs the cell once and stores timings. And now it is becoming obvious where cython can speed things up: \n",
    "\n",
    "1. cython: 258 ms\n",
    "2. python with list: 5.69 s\n",
    "3. python with numpy: 20 s\n",
    "\n",
    "The fact that the numpy array is four times slower than the python with list crushes my intuition on this.\n",
    "\n",
    "--------------------\n"
   ]
  },
  {
   "cell_type": "code",
   "execution_count": 4,
   "metadata": {},
   "outputs": [
    {
     "name": "stdout",
     "output_type": "stream",
     "text": [
      "CPU times: user 24.4 s, sys: 0 ns, total: 24.4 s\n",
      "Wall time: 24.4 s\n"
     ]
    }
   ],
   "source": [
    "%%time\n",
    "a = get_primes_python(20000)"
   ]
  },
  {
   "cell_type": "code",
   "execution_count": 5,
   "metadata": {},
   "outputs": [
    {
     "name": "stdout",
     "output_type": "stream",
     "text": [
      "CPU times: user 57.1 s, sys: 164 µs, total: 57.1 s\n",
      "Wall time: 57 s\n"
     ]
    }
   ],
   "source": [
    "%%time\n",
    "a = get_primes_python(30000)"
   ]
  },
  {
   "cell_type": "code",
   "execution_count": 6,
   "metadata": {},
   "outputs": [
    {
     "name": "stdout",
     "output_type": "stream",
     "text": [
      "CPU times: user 1min 43s, sys: 0 ns, total: 1min 43s\n",
      "Wall time: 1min 43s\n"
     ]
    }
   ],
   "source": [
    "%%time\n",
    "a = get_primes_python(40000)"
   ]
  },
  {
   "cell_type": "code",
   "execution_count": 7,
   "metadata": {},
   "outputs": [
    {
     "name": "stdout",
     "output_type": "stream",
     "text": [
      "CPU times: user 1min 13s, sys: 15.8 ms, total: 1min 14s\n",
      "Wall time: 1min 14s\n"
     ]
    }
   ],
   "source": [
    "%%time\n",
    "a = get_primes_python(20000, use_numpy_array=True)"
   ]
  },
  {
   "cell_type": "code",
   "execution_count": 9,
   "metadata": {},
   "outputs": [
    {
     "name": "stdout",
     "output_type": "stream",
     "text": [
      "CPU times: user 2min 44s, sys: 4.03 ms, total: 2min 44s\n",
      "Wall time: 2min 44s\n"
     ]
    }
   ],
   "source": [
    "%%time\n",
    "a = get_primes_python(30000, use_numpy_array=True)"
   ]
  },
  {
   "cell_type": "code",
   "execution_count": 10,
   "metadata": {},
   "outputs": [
    {
     "name": "stdout",
     "output_type": "stream",
     "text": [
      "CPU times: user 5min 5s, sys: 0 ns, total: 5min 5s\n",
      "Wall time: 5min 5s\n"
     ]
    }
   ],
   "source": [
    "%%time\n",
    "a = get_primes_python(40000, use_numpy_array=True)"
   ]
  },
  {
   "cell_type": "code",
   "execution_count": 19,
   "metadata": {},
   "outputs": [
    {
     "name": "stdout",
     "output_type": "stream",
     "text": [
      "CPU times: user 811 ms, sys: 0 ns, total: 811 ms\n",
      "Wall time: 812 ms\n"
     ]
    }
   ],
   "source": [
    "%%time\n",
    "a = get_primes_cython(20000)"
   ]
  },
  {
   "cell_type": "code",
   "execution_count": 20,
   "metadata": {},
   "outputs": [
    {
     "name": "stdout",
     "output_type": "stream",
     "text": [
      "CPU times: user 1.86 s, sys: 0 ns, total: 1.86 s\n",
      "Wall time: 1.86 s\n"
     ]
    }
   ],
   "source": [
    "%%time\n",
    "a = get_primes_cython(30000)"
   ]
  },
  {
   "cell_type": "code",
   "execution_count": 21,
   "metadata": {},
   "outputs": [
    {
     "name": "stdout",
     "output_type": "stream",
     "text": [
      "CPU times: user 3.29 s, sys: 24 µs, total: 3.29 s\n",
      "Wall time: 3.23 s\n"
     ]
    }
   ],
   "source": [
    "%%time\n",
    "a = get_primes_cython(40000)"
   ]
  },
  {
   "cell_type": "code",
   "execution_count": 22,
   "metadata": {},
   "outputs": [
    {
     "name": "stdout",
     "output_type": "stream",
     "text": [
      "CPU times: user 5.05 s, sys: 4 ms, total: 5.05 s\n",
      "Wall time: 5.04 s\n"
     ]
    }
   ],
   "source": [
    "%%time\n",
    "a = get_primes_cython(50000)"
   ]
  },
  {
   "cell_type": "code",
   "execution_count": 23,
   "metadata": {},
   "outputs": [
    {
     "name": "stdout",
     "output_type": "stream",
     "text": [
      "CPU times: user 20.1 s, sys: 2.23 ms, total: 20.1 s\n",
      "Wall time: 20.1 s\n"
     ]
    }
   ],
   "source": [
    "%%time\n",
    "a = get_primes_cython(100000)"
   ]
  },
  {
   "cell_type": "code",
   "execution_count": 32,
   "metadata": {},
   "outputs": [
    {
     "data": {
      "text/plain": [
       "<matplotlib.legend.Legend at 0x7f4063f9a510>"
      ]
     },
     "execution_count": 32,
     "metadata": {},
     "output_type": "execute_result"
    },
    {
     "data": {
      "image/png": "[encoded data removed]",
      "text/plain": [
       "<Figure size 1008x432 with 1 Axes>"
      ]
     },
     "metadata": {},
     "output_type": "display_data"
    }
   ],
   "source": [
    "import matplotlib.pyplot as plt\n",
    "\n",
    "plt.rcParams['figure.figsize'] = (14, 6)\n",
    "\n",
    "# plot the result\n",
    "x = [1e4, 2e4, 3e4, 4e4, 5e4, 10e4]\n",
    "cython = [0.26, 0.81, 1.86, 3.23, 5.04, 20.1]\n",
    "py_list =[5.69, 24.4, 57, 60+43, None, None]\n",
    "py_npy = [20, 60+14, 120+44, 5*60 + 5, None, None]\n",
    "\n",
    "plt.plot(x, cython, 'y--', label='Cython')\n",
    "plt.plot(x, py_list, 'g--', label='Python with list')\n",
    "plt.plot(x, py_npy, 'b--', label='Python with numpy')\n",
    "plt.title('Runtime for-looped prime number search')\n",
    "plt.legend()"
   ]
  },
  {
   "cell_type": "markdown",
   "metadata": {},
   "source": [
    "### 3. Heavy load\n",
    "\n",
    "The results show the same dependencies between the time to compute n prime numbers like the second task.\n",
    "Only the Cython test was held out until the end because the others just would not come to an end without implying the need to log scale the time axis in the previous chart.\n",
    "\n",
    "As a conclusion it is obvious that the Cython code outperforms the others by a large factor. \n",
    "\n",
    "(Note: I know that there are better prime checks and speed ups for this. The coded is only intented to use a lot of for-loops not to be efficient.)"
   ]
  },
  {
   "cell_type": "markdown",
   "metadata": {},
   "source": [
    "## Compiling the cython code\n",
    "\n",
    "In this section I am going to cover how to compile cython code for the use in a code base. \n",
    "\n",
    "- [Cython tutorial](http://cython.readthedocs.io/en/latest/src/tutorial/cython_tutorial.html)\n",
    "- [Cython numpy tutorial](http://cython.readthedocs.io/en/latest/src/userguide/numpy_tutorial.html)\n",
    "\n",
    "\n",
    "1. Create a .pyx file containing the cython code\n",
    "2. Configure your setup.py to be able to cythonize, build, link and compile\n",
    "3. Import the cython module in python and call it"
   ]
  },
  {
   "cell_type": "markdown",
   "metadata": {},
   "source": [
    "```python\n",
    "# primes.pyx\n",
    "\n",
    "import numpy as np\n",
    "cimport numpy as np\n",
    "\n",
    "def get_primes_cython(int n):\n",
    "    cdef:\n",
    "        np.ndarray[np.int32_t, ndim=1] primes = np.zeros(n, dtype=np.int32)\n",
    "        int i = 0;\n",
    "        int last_prime = 2;\n",
    "        int candidate = 1;\n",
    "        int is_ok = 1;\n",
    "    \n",
    "    while (i<n):\n",
    "        candidate += 1;\n",
    "        is_ok = 1;\n",
    "        \n",
    "        for c in range(i):\n",
    "            if candidate % primes[c] == 0:\n",
    "                is_ok = 0;\n",
    "                break;\n",
    "\n",
    "        if is_ok == 1:\n",
    "            primes[i] = candidate;\n",
    "            i += 1;\n",
    "    \n",
    "    return primes\n",
    "```"
   ]
  },
  {
   "cell_type": "markdown",
   "metadata": {},
   "source": [
    "```python\n",
    "# setup.pyx\n",
    "\n",
    "from distutils.core import setup\n",
    "from distutils.extension import Extension\n",
    "from Cython.Distutils import build_ext\n",
    "import numpy as np\n",
    "\n",
    "ext_modules = [Extension(\"primes\", [\"primes.pyx\"])]\n",
    "\n",
    "setup(\n",
    "  name = 'Primes app',\n",
    "  cmdclass = {'build_ext': build_ext},\n",
    "  include_dirs = [np.get_include()],\n",
    "  ext_modules = ext_modules\n",
    ")\n",
    "```"
   ]
  },
  {
   "cell_type": "markdown",
   "metadata": {},
   "source": [
    "**3,2,1... Compile:**\n",
    "\n",
    "`python setup.py build_ext --inplace`\n",
    "\n",
    "`ls -la`\n",
    "\n",
    "```\n",
    "drwxrwxr-x 4 daniel daniel   4096 Jun 25 06:14 .\n",
    "drwxrwxr-x 4 daniel daniel   4096 Jun 21 20:33 ..\n",
    "drwxrwxr-x 3 daniel daniel   4096 Jun 25 06:13 build\n",
    "-rw-rw-r-- 1 daniel daniel  48488 Jun 25 06:08 cython.ipynb\n",
    "drwxrwxr-x 2 daniel daniel   4096 Jun 21 20:34 .ipynb_checkpoints\n",
    "-rw-rw-r-- 1 daniel daniel 276774 Jun 25 06:14 primes.c\n",
    "-rwxrwxr-x 1 daniel daniel 113696 Jun 25 06:14 primes.cpython-35m-x86_64-linux-gnu.so\n",
    "-rw-rw-r-- 1 daniel daniel    563 Jun 25 06:14 primes.pyx\n",
    "-rw-rw-r-- 1 daniel daniel    336 Jun 25 06:14 setup.py\n",
    "```\n",
    "    "
   ]
  },
  {
   "cell_type": "markdown",
   "metadata": {},
   "source": [
    "# Let's call the prime code\n",
    "\n",
    "The cool thing is that we can import the code and run the methods defined in the .pyx file.\n",
    "\n",
    "\n",
    "```python\n",
    "Python 3.5.2 (default, Nov 23 2017, 16:37:01) \n",
    "[GCC 5.4.0 20160609] on linux\n",
    "Type \"help\", \"copyright\", \"credits\" or \"license\" for more information.\n",
    ">>> import primes\n",
    ">>> primes.get_primes_cython(10000)\n",
    "array([     2,      3,      5, ..., 104717, 104723, 104729], dtype=int32)\n",
    "```"
   ]
  },
  {
   "cell_type": "code",
   "execution_count": null,
   "metadata": {},
   "outputs": [],
   "source": []
  }
 ],
 "metadata": {
  "kernelspec": {
   "display_name": "Python 3",
   "language": "python",
   "name": "python3"
  },
  "language_info": {
   "codemirror_mode": {
    "name": "ipython",
    "version": 2
   },
   "file_extension": ".py",
   "mimetype": "text/x-python",
   "name": "python",
   "nbconvert_exporter": "python",
   "pygments_lexer": "ipython2",
   "version": "2.7.12"
  }
 },
 "nbformat": 4,
 "nbformat_minor": 2
}
