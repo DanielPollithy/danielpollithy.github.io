{
 "cells": [
  {
   "cell_type": "markdown",
   "metadata": {},
   "source": [
    "## Boltzmann Machines\n",
    "\n",
    "I have explained Binary Hopfield Networks in my last post. \n",
    "They had three main problems:\n",
    "\n",
    "- Bad efficiency\n",
    "- Spurious states\n",
    "- No possibility of \"escaping\" the wrong attractor region\n",
    "\n",
    "Hinton and Sejnowski worked with a probabilistic graphical model which they called **Boltzmann machine**.\n",
    "The main differences:\n",
    "\n",
    "- Every unit can have a unique bias\n",
    "- The weighted sum that is calculated by each hidden unit has no threshold but a sigmoid actication function\n",
    "  (the activation function is interpreted as the probability of the unit being active)\n",
    "- Due to the stochasticity of the process a particle on the energy function can leave a local minimum\n",
    "\n",
    "Generally speaking: A boltzmann machine is a **stochastic recurrent neural network** with visible and hidden units. It is an undirected graph without self-connections.\n",
    "\n",
    "![boltz1.jpg](boltz2/boltz1.jpg)\n",
    "\n",
    "The structure of the net is generally not constrained and therefore sampling and learning become a big problem.\n",
    "\n",
    "The hidden units are denoted with $h_i$ and the visible units with $v_i$.\n",
    "Both of these units are written as $s_i$. \n",
    "\n",
    "As mentioned above, every unit can either be actived (1) or deactived (0).\n",
    "Additional to the Hopfield Update rule we add a bias $b_i$ and the sigmoid function:\n",
    "\n",
    "$z_i = b_i + \\sum_{j}{s_j \\cdot w_{ij}}$,&nbsp;&nbsp;&nbsp;&nbsp;&nbsp;&nbsp; $p(s_i=1) = \\sigma(z_i) = \\frac{1}{1+e^{-z_i}}$\n",
    "\n",
    "$w_ij$ is the weight of the connection between i and j and vice versa (for i!=j).\n",
    "\n",
    "### Energy\n",
    "\n",
    "Therefore we can write the energy of the network as:\n",
    "\n",
    "$ E = -\\sum_{i<j}{s_i \\cdot w_{ij} \\cdot} - \\sum_{i} b_i \\cdot s_i $\n",
    "\n",
    "This is different from the Hopfield Networks because of the bias. Although the weights are undirected, two connected units do not have to have the same bias.\n",
    "\n",
    "What is the probability p(v) of a given state v?\n",
    "We defer the single probability of state to the energy function and divide it by all possible values of the Energy function:\n",
    "\n",
    "$p(v) = \\frac{e^{-E(v)}}{\\sum_{u}{e^{-E(u)}}} = \\frac{e^{-E(v)}}{Z}$ \n",
    "\n",
    "(Z is the partition function)\n",
    "\n",
    "### Entropy and the boltzmann distribution\n",
    "\n",
    "If you measure the microscopic state of a thermodynamic system whose thermodynamic state is determined by a constant average energy, and only a constant average energy,\n",
    "\n",
    "∑𝑖𝑝𝑖𝐸𝑖=⟨𝐸⟩\n",
    "\n",
    "and you measure it many times, waiting between measurements long times in order to remove temporal correlations between them, then the set of measurements will follows the Boltzmann distribution\n",
    "\n",
    "𝑝𝑖=𝑒−𝐸𝑖/𝑇∑𝑗𝑒−𝐸𝑗/𝑇\n",
    "\n",
    "where 𝐸𝑖\n",
    "is the energy of the i-th microscopic state, 𝑇 is the temperature and 𝑝𝑖\n",
    "\n",
    "is the probability for each of the measurements to result in i-th microscopic state.\n",
    "\n",
    "Notoriously, the Boltzmann distribution is the one you obtain if you maximize the entropy of the system\n",
    "\n",
    "𝑆=−∑𝑖𝑝𝑖log2𝑝𝑖\n",
    "\n",
    "as a function of the distribution 𝑝𝑖\n",
    "subject to the set of thermodynamic constraints defining the thermodynamic state of the system, which in our case it is a constant average energy, only. This happens to be that way because, among all the microscopic states the system can possibly be, if you force the system to be in a specific thermodynamic state, then, you impose restrictions onto the set of microscopic states that the system can actually reach and with which probability (the 𝑝𝑖). This is the reason for which the thermodynamic state gives you some information about which are going to be your measurements about the microscopic states of the system. In other words, the entropy quantifies how much extra information you need, in average, to determine which is the microscopic state of the system at the time of your measurements, given that you only know its thermodynamic state.\n",
    "\n",
    "source: [quora](https://www.quora.com/What-is-free-energy)\n",
    "\n",
    "### Heat\n",
    "\n",
    "The more you know about the state of system, the more you can take advantage of it in order to extract energy from it. For example, if a rock is falling from the sky, you can extract energy from it if you know where it is going to fall. The more you know about how and where the rock is falling, the more energy you will be able to extract from the event. In a sort of analogy, knowing that a rock is falling from the sky is like knowing the macroscopic state. On the other hand, knowing where it is going to fall is like knowing the microscopic state.\n",
    "\n",
    "Following the previous idea, you can only extract energy from a thermodynamic system from what you know of its microscopic state, which in the present context, it is the thermodynamic state. You can think of heat as energy contained in the system that you cannot extract from it because you ignore the precise microscopic state of the system at the moment where you want to extract the energy.\n",
    "\n",
    "source: [quora](https://www.quora.com/What-is-free-energy)\n",
    "\n",
    "### Free energy\n",
    "\n",
    "What is **free energy**? A thermodynamic quantity equivalent to the capacity of a system to do work.\n",
    "\n",
    "The free-energy is then, in an average sense, the amount of energy contained in the system, i.e. it is total energy 𝑈=⟨𝐸⟩ minus the energy you cannot extract 𝑇𝑆 due to the remaining uncertainty or ignorance you have about which is its precise microscopic state the system is given that you only know about it its thermodynamic state.\n",
    "\n",
    "This is free energy according to Helmholtz:\n",
    "**Hemholtz free energy (U - TS)**\n",
    "\n",
    "There is also **Gibbs free energy** defined as\n",
    "\n",
    "$$ G = U + PV - TS = H - TS $$\n",
    "\n",
    "in which U is internal energy, P is pressure, V is volume, T is absolute temperature, S is entropy, and H is enthalpy. \n",
    "\n",
    "It measures the usefulness or process-initiating work obtainable from a system at a constant temperature and pressure.  If it is a chemical system, a reaction that lowers G occurs spontaneously.\n",
    "\n",
    "source: [quora](https://www.quora.com/What-is-free-energy)\n",
    "\n",
    "\n",
    "### Where the sigmoid comes from\n",
    "\n",
    "see [wikipedia](https://en.wikipedia.org/wiki/Boltzmann_machine)\n",
    "\n",
    "The difference of energies of two states is\n",
    "\n",
    "$ \\Delta E_i = E_\\text{i=off} - E_\\text{i=on} $\n",
    "\n",
    "Substituting the energy of each state with its relative probability according to the Boltzmann factor (the property of a Boltzmann distribution that the energy of a state is proportional to the negative log probability of that state) gives:\n",
    "\n",
    "$ \\Delta E_i = -k_B\\,T\\ln(p_\\text{i=off}) - (-k_B\\,T\\ln(p_\\text{i=on})) $\n",
    "\n",
    "where $k_B$ is Boltzmann's constant and is absorbed into the artificial notion of temperature $T$. We then rearrange terms and consider that the probabilities of the unit being on and off must sum to one:\n",
    "\n",
    "$$\\frac{\\Delta E_i}{T} = \\ln(p_\\text{i=on}) - \\ln(p_\\text{i=off})$$\n",
    "$$\\frac{\\Delta E_i}{T} = \\ln(p_\\text{i=on}) - \\ln(1 - p_\\text{i=on})$$\n",
    "$$\\frac{\\Delta E_i}{T} = \\ln\\left(\\frac{p_\\text{i=on}}{1 - p_\\text{i=on}}\\right)$$\n",
    "$$-\\frac{\\Delta E_i}{T} = \\ln\\left(\\frac{1 - p_\\text{i=on}}{p_\\text{i=on}}\\right)$$\n",
    "$$-\\frac{\\Delta E_i}{T} = \\ln\\left(\\frac{1}{p_\\text{i=on}} - 1\\right)$$\n",
    "$$\\exp\\left(-\\frac{\\Delta E_i}{T}\\right) = \\frac{1}{p_\\text{i=on}} - 1$$\n",
    "\n",
    "Solving for $p_\\text{i=on}$, the probability that the $i$-th unit is on gives:\n",
    "\n",
    "$$p_\\text{i=on} = \\frac{1}{1+\\exp(-\\frac{\\Delta E_i}{T})}$$\n",
    "\n",
    "where $T$ is referred to as the temperature of the system. This relation is the source of the logistic function found in probability expressions in variants of the Boltzmann machine.\n",
    "\n",
    "Altering the factor T makes the logistic function wider or steeper.\n",
    "\n",
    "\n",
    "### Convergence\n",
    "\n",
    "As with the Hopfield Nets the network shall converge to a stable state but \"with a little bit of random\".\n",
    "This randomness is expressed by the steepness of the sigmoid function:\n",
    "\n",
    "![sigmoid.jpg](boltz2/sigmoid.jpg)\n",
    "\n",
    "This steepness can be thought of as the learning rate of sgd. So we initially choose it large and then we let it become smaller so it can converge into a small region.\n",
    "\n",
    "This is related to a method called simulated annealing. The size of the learning rate is called temperature and its getting colder with every step. The temperature determines the steepness in our example. The following image is taken from wikipedia to illustrate this process:\n",
    "\n",
    "![Hill_Climbing_with_Simulated_Annealing.gif](boltz2/Hill_Climbing_with_Simulated_Annealing.gif)\n",
    "\n",
    "If the temperature is fixed and after enough unit updates the system only depends on the energy \n",
    "we say that it reached its **thermal equilibrium**.\n",
    "\n",
    "\n",
    "## Restricted Boltzmann Machines\n",
    "\n",
    "In order to cope with some of the problems the model had to be restricted to a bipartite graph called \n",
    "the **Restricted** Boltzmann Machine.\n",
    "The two cores of the bipartite graph are the visible and the hidden units.\n",
    "\n",
    "It was proven in 2010 by Long and Servedio that Z is intractable for both machines.\n",
    "\n",
    "![rbm1.jpg](boltz2/rbm1.jpg)\n",
    "\n",
    "### Energy\n",
    "\n",
    "$ E(h,v) = -\\sum_{h_i}{\\sum_{v_j}{w_{ij} h_i v_j}} - \\sum_{h_i}{h_i b_i} - \\sum_{v_j}{v_j b_j}$\n",
    "\n",
    "The probability of a visible unit v can be calculated easier:\n",
    "\n",
    "$p(v_j|H) = \\sigma(b_j + \\sum_{h_i}{w_{ij} h_i} )$\n",
    "\n",
    "And vice versa for a hidden unit:\n",
    "\n",
    "$ p(h_i|V) = \\sigma (b_i + \\sum_{v_j}{w_{ij} v_j} )$\n",
    "\n",
    "The free energy in a RBM can be calculated and one might use it to tell something about the \"potential energy\" we still have when we converged to an equilibrium. It can be used to determine if a RBM is overfitting.\n",
    "\n",
    "### Learning with Contrastive Divergence\n",
    "\n",
    "Source: [Youtube](https://www.youtube.com/watch?v=UcAWwySuUZM)\n",
    "\n",
    "The idea is to pick a data vector and set it as visible units.\n",
    "Now because the graph is bipartite we can update all hidden units at the same time and vice versa with the visible units until the units of the RBM reached thermal equilibrium.\n",
    "This is a Markov Chain Monte Carlo method particularly Gibbs sampling.\n",
    "\n",
    "The weight update becomes: $\\Delta w_{ij} = \\epsilon ( <v_i h_j>^0 - <v_i h_j>^{\\infty} )$\n",
    "\n",
    "This is a \"fight\" between what the memory wants (the state in the thermal equilibrium $<v_i h_j>^{\\infty}$) and the data $<v_i h_j>^0$. In the beginning the memory is random therefore we don't want to make too many steps into its direction. If we don't wait until the thermal equilibrium is reached but rather use the \"wrong\" gradient the method is called **Contrastive divergence**. \n",
    "\n",
    "The longer the training continues the more iterations of contrastive divergence learning are used. In the beginning it is one and then we increase it.\n",
    "\n",
    "### Example of CD\n",
    "\n",
    "The following python snippet visualizes as training with CD on MNIST."
   ]
  },
  {
   "cell_type": "code",
   "execution_count": 4,
   "metadata": {},
   "outputs": [
    {
     "data": {
      "text/plain": [
       "<Figure size 432x288 with 0 Axes>"
      ]
     },
     "metadata": {},
     "output_type": "display_data"
    }
   ],
   "source": [
    "import matplotlib.pyplot as plt \n",
    "import sklearn\n",
    "import numpy as np\n",
    "\n",
    "from scipy.stats import logistic\n",
    "from sklearn.datasets import load_digits\n",
    "\n",
    "digits = load_digits()\n",
    "\n",
    "plt.gray()"
   ]
  },
  {
   "cell_type": "code",
   "execution_count": 13,
   "metadata": {},
   "outputs": [],
   "source": [
    "mask = digits.target == 3\n",
    "threes = digits.images[mask]"
   ]
  },
  {
   "cell_type": "code",
   "execution_count": 17,
   "metadata": {
    "scrolled": false
   },
   "outputs": [
    {
     "data": {
      "image/png": "[encoded data removed]",
      "text/plain": [
       "<Figure size 288x288 with 1 Axes>"
      ]
     },
     "metadata": {},
     "output_type": "display_data"
    },
    {
     "name": "stdout",
     "output_type": "stream",
     "text": [
      "0  size of W:  39.924335666308195\n"
     ]
    },
    {
     "data": {
      "image/png": "[encoded data removed]",
      "text/plain": [
       "<Figure size 288x288 with 1 Axes>"
      ]
     },
     "metadata": {},
     "output_type": "display_data"
    },
    {
     "name": "stdout",
     "output_type": "stream",
     "text": [
      "0  size of W:  39.17467666748022\n"
     ]
    },
    {
     "data": {
      "image/png": "[encoded data removed]",
      "text/plain": [
       "<Figure size 288x288 with 1 Axes>"
      ]
     },
     "metadata": {},
     "output_type": "display_data"
    },
    {
     "name": "stdout",
     "output_type": "stream",
     "text": [
      "0  size of W:  38.97155882317313\n"
     ]
    },
    {
     "data": {
      "image/png": "[encoded data removed]",
      "text/plain": [
       "<Figure size 288x288 with 1 Axes>"
      ]
     },
     "metadata": {},
     "output_type": "display_data"
    },
    {
     "name": "stdout",
     "output_type": "stream",
     "text": [
      "0  size of W:  38.944982809345895\n"
     ]
    },
    {
     "data": {
      "image/png": "[encoded data removed]",
      "text/plain": [
       "<Figure size 288x288 with 1 Axes>"
      ]
     },
     "metadata": {},
     "output_type": "display_data"
    },
    {
     "name": "stdout",
     "output_type": "stream",
     "text": [
      "0  size of W:  38.80202589068636\n"
     ]
    },
    {
     "data": {
      "image/png": "[encoded data removed]",
      "text/plain": [
       "<Figure size 288x288 with 1 Axes>"
      ]
     },
     "metadata": {},
     "output_type": "display_data"
    },
    {
     "name": "stdout",
     "output_type": "stream",
     "text": [
      "0  size of W:  38.74259814116064\n"
     ]
    },
    {
     "data": {
      "image/png": "[encoded data removed]",
      "text/plain": [
       "<Figure size 288x288 with 1 Axes>"
      ]
     },
     "metadata": {},
     "output_type": "display_data"
    },
    {
     "name": "stdout",
     "output_type": "stream",
     "text": [
      "0  size of W:  38.6967212149249\n"
     ]
    },
    {
     "data": {
      "image/png": "[encoded data removed]",
      "text/plain": [
       "<Figure size 288x288 with 1 Axes>"
      ]
     },
     "metadata": {},
     "output_type": "display_data"
    },
    {
     "name": "stdout",
     "output_type": "stream",
     "text": [
      "0  size of W:  38.74791680409241\n"
     ]
    }
   ],
   "source": [
    "# Init\n",
    "h = np.random.normal(0, 1, 25)\n",
    "# bias\n",
    "b1 = np.random.normal(0, 1, 64)\n",
    "b2 = np.random.normal(0, 1, 25)\n",
    "# from x to h\n",
    "W = np.random.normal(0, 1, [64, 25])\n",
    "\n",
    "# parameter\n",
    "lr = 0.01\n",
    "iterations = 100\n",
    "contrastive_divergence_steps = 50\n",
    "\n",
    "# debug\n",
    "print_every_nth = 100\n",
    "\n",
    "# contrastive divergence CD-50\n",
    "\n",
    "# train on the first 8 threes\n",
    "for x in threes[:8]:\n",
    "    for iteration in range(iterations):\n",
    "        v = x.flatten() / np.max(x)\n",
    "\n",
    "        p_of_h = logistic.cdf(W.T.dot(v) + b2)\n",
    "        positive_phase = np.dot(v[:, np.newaxis], p_of_h[:, np.newaxis].T)\n",
    "\n",
    "        for i in range(contrastive_divergence_steps):\n",
    "            # plt.matshow(v.reshape([8,8]))\n",
    "\n",
    "            # calculate p(h|v)\n",
    "            p_of_h = logistic.cdf(W.T.dot(v) + b2)\n",
    "\n",
    "            # sample p(h|v)\n",
    "            h = p_of_h\n",
    "\n",
    "            # calculate p(h|v)\n",
    "            p_of_v = logistic.cdf(W.dot(h) + b1)\n",
    "\n",
    "            # sample p(h|v)\n",
    "            v = p_of_v\n",
    "\n",
    "        if iteration % print_every_nth == 0:\n",
    "            plt.matshow(v.reshape([8,8]))\n",
    "            plt.show()\n",
    "            print(iteration, \" size of W: \", np.sqrt(np.sum(W**2)))\n",
    "\n",
    "        negative_phase = np.dot(v[:, np.newaxis], p_of_h[:, np.newaxis].T)\n",
    "\n",
    "        update = positive_phase - negative_phase\n",
    "\n",
    "        W += lr * update\n",
    "    \n",
    "\n"
   ]
  },
  {
   "cell_type": "code",
   "execution_count": 99,
   "metadata": {},
   "outputs": [
    {
     "name": "stdout",
     "output_type": "stream",
     "text": [
      "size of W:  40.07556051315531\n"
     ]
    }
   ],
   "source": []
  },
  {
   "cell_type": "code",
   "execution_count": 33,
   "metadata": {},
   "outputs": [
    {
     "data": {
      "text/plain": [
       "(64, 25)"
      ]
     },
     "execution_count": 33,
     "metadata": {},
     "output_type": "execute_result"
    }
   ],
   "source": [
    "np.dot(x[:, np.newaxis], h[:, np.newaxis].T)"
   ]
  },
  {
   "cell_type": "code",
   "execution_count": null,
   "metadata": {},
   "outputs": [],
   "source": []
  }
 ],
 "metadata": {
  "kernelspec": {
   "display_name": "Python 3",
   "language": "python",
   "name": "python3"
  },
  "language_info": {
   "codemirror_mode": {
    "name": "ipython",
    "version": 3
   },
   "file_extension": ".py",
   "mimetype": "text/x-python",
   "name": "python",
   "nbconvert_exporter": "python",
   "pygments_lexer": "ipython3",
   "version": "3.5.2"
  }
 },
 "nbformat": 4,
 "nbformat_minor": 2
}
