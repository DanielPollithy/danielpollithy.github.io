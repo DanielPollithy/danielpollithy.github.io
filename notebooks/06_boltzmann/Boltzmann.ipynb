{
 "cells": [
  {
   "cell_type": "markdown",
   "metadata": {},
   "source": [
    "This article explains Hopfield nets, simulates one and contains the relation to the Ising model.\n",
    "\n",
    "## Hopfield Nets\n",
    "\n",
    "Let's assume you have a classification task for images where all images are known. The optimal solution would be to store all images and when you are given an image you compare all memory images to this one and get an exact match.\n",
    "But then you realize that this \"look up\" (comparing one image after another) becomes costly the more images you have to memorize. \n",
    "Even if you try to arange the images in a tree structure you will never be as fast as the following solution: store all images in **Content addressable memory (CAM)**.\n",
    "CAM is specialized hardware that is used in routers. Ternary-CAM additionally has a \"Don't-Care\" state (\"?\") with which parts of the pattern can be masked (this is useful for IP routing).\n",
    "\n",
    "In German CAMs are referred to as \"Assoziativspeicher\" (associative memory). Intuitively you don't use an address to access data but instead you use data to access the address of the data.\n",
    "\n",
    "Now imagine we had many pictures of dogs in our memorized array. And then comes a new image of a dog.\n",
    "Expect for the masking option (\"?\") we cannot perform any kind of fuzzy search on hardware CAM.\n",
    "\n",
    "As we will see in the following section, a Hopfield Network is a form of a recurrent artificial neural network and it serves as some kind of **associative memory**. It is interesting to analyse because we can model how neural networks store patterns.\n",
    "\n",
    "### Binary Hopfield Networks\n",
    "\n",
    "A network with N binary units which are interconnected symmetrically (weight $T_{ij}=T_{ji}$) and without self-loops ($T_{ii} = 0$).\n",
    "Every unit can either be positive (\"+1\") or negative (\"-1\"). Therefore we can describe the state of the network with a vector U. For example U = (+,-,-,-,+...).\n",
    "\n",
    "Intuitively we initially set a state and wait until the network relaxes into another stable state. That means it does not change anymore once it reached that state. The reached state is the output value. For the associative memory example with images, the initial state is the image (black and white) and the stable state can also be interpreted as an image.\n",
    "\n",
    "Each of the units is a McCulloch-Pitts neuron with a step-function as non-linearity.\n",
    "That means if we only update a single unit (\"neuron\") then we calculate the weighted sum of the neighbours and set the neuron to \"+\" if the sum is greater or equals a threshold.\n",
    "\n",
    "- Weighted sum of neuron $x_j$: $g(x_j) = \\sum_{i}{x_i \\cdot T_{ji}}$\n",
    "- Step function: $x_j = \\begin{cases}\n",
    "+1,  g(x_j) \\ge 0\\\\\n",
    "-1,   else\n",
    "\\end{cases}$\n",
    "\n",
    "**Update procedure**: \n",
    " - Synchronous update: A global clock tells all neurons at the same time to update. As a consequence all new states\n",
    "   only depend on the old states\n",
    " - Asynchronous update: One unit is updated after another. This seems to be more plausible for biological neurons or\n",
    "   ferro-magnets because they have no common clock. The order is random.\n",
    "   \n",
    "**Learning** refers to finding apropriate weights. For the associative memory we want the connections between two neurons positive if they are often active together and we want the value to be negative if they are often different.\n",
    "  \n",
    "### Example\n",
    "\n",
    "The following example simulates a Hopfield network for noise reduction. The training patterns are eight times \"+\"/\"-\", six times \"+\"/\"-\" and six times the result of \"+\"/\"-\" AND \"+\"/\"-\".\n",
    "The reason for the redundancy will be explained later.\n",
    "\n",
    "The images of the simulations have the number of state at the x-axis and the time step as y-axis."
   ]
  },
  {
   "cell_type": "code",
   "execution_count": 135,
   "metadata": {},
   "outputs": [],
   "source": [
    "import numpy as np\n",
    "import random\n",
    "import matplotlib.pyplot as plt\n",
    "\n",
    "patterns = [\n",
    "#     Left variable                |    Right variable              =   Left AND Right    \n",
    "    [-1, -1, -1, -1, -1, -1, -1, -1, -1, -1, -1, -1, -1, -1, -1, -1,   -1, -1, -1, -1, -1, -1],\n",
    "    [-1, -1, -1, -1, -1, -1, -1, -1, +1, +1, +1, +1, +1, +1, +1, +1,   -1, -1, -1, -1, -1, -1],\n",
    "    [+1, +1, +1, +1, +1, +1, +1, +1, -1, -1, -1, -1, -1, -1, -1, -1,   -1, -1, -1, -1, -1, -1],\n",
    "    [+1, +1, +1, +1, +1, +1, +1, +1, +1, +1, +1, +1, +1, +1, +1, +1,   +1, +1, +1, +1, +1, +1]\n",
    "]\n",
    "\n",
    "size = len(patterns[0])\n",
    "weights = np.array([[0]*size]*size)\n",
    "\n",
    "for pattern in patterns:\n",
    "    for i in range(0, size):\n",
    "        for j in range(0, size):\n",
    "            if j==i:\n",
    "                pass\n",
    "            else:\n",
    "                weights[i,j] += pattern[i] * pattern[j]\n",
    "\n",
    "def simulate(x1, x2, eps=30, first_state=None, visualize=True):\n",
    "    number_of_iteration_unchanged = 0\n",
    "\n",
    "    if not first_state:\n",
    "        first_state = [x1]*8 + [x2]*8 + [+1, -1, +1, -1, +1, -1]\n",
    "    trace = [\n",
    "        first_state\n",
    "    ]\n",
    "\n",
    "    while (number_of_iteration_unchanged < eps):    \n",
    "        if len(trace) > 1 and trace[-1] == trace[-2]:\n",
    "            number_of_iteration_unchanged += 1\n",
    "        else:\n",
    "            number_of_iteration_unchanged = 0\n",
    "\n",
    "        random_unit = random.randint(0, size-1)\n",
    "\n",
    "        all_new_states = (np.array(np.dot(weights, trace[-1]) >= 0.0, dtype=np.int)*2) - 1\n",
    "        trace.append(trace[-1].copy())\n",
    "        trace[-1][random_unit] = all_new_states[random_unit].copy()\n",
    "\n",
    "    np_trace = np.array(trace)\n",
    "\n",
    "    if visualize:\n",
    "        plt.imshow(np_trace)\n",
    "        plt.show()\n",
    "    \n",
    "    return trace[-1]\n",
    "    "
   ]
  },
  {
   "cell_type": "code",
   "execution_count": 113,
   "metadata": {},
   "outputs": [
    {
     "data": {
      "image/png": "[encoded data removed]",
      "text/plain": [
       "<Figure size 432x288 with 1 Axes>"
      ]
     },
     "metadata": {},
     "output_type": "display_data"
    }
   ],
   "source": [
    "simulate(-1,-1, eps=100);"
   ]
  },
  {
   "cell_type": "code",
   "execution_count": 114,
   "metadata": {},
   "outputs": [
    {
     "data": {
      "image/png": "[encoded data removed]",
      "text/plain": [
       "<Figure size 432x288 with 1 Axes>"
      ]
     },
     "metadata": {},
     "output_type": "display_data"
    },
    {
     "data": {
      "text/plain": [
       "[1, 1, 1, 1, 1, 1, 1, 1, 1, 1, 1, 1, 1, 1, 1, 1, 1, 1, 1, 1, 1, 1]"
      ]
     },
     "execution_count": 114,
     "metadata": {},
     "output_type": "execute_result"
    }
   ],
   "source": [
    "simulate(1,1, eps=100)"
   ]
  },
  {
   "cell_type": "code",
   "execution_count": 139,
   "metadata": {},
   "outputs": [
    {
     "data": {
      "image/png": "[encoded data removed]",
      "text/plain": [
       "<Figure size 432x288 with 1 Axes>"
      ]
     },
     "metadata": {},
     "output_type": "display_data"
    }
   ],
   "source": [
    "simulate(-1,+1, eps=100);"
   ]
  },
  {
   "cell_type": "code",
   "execution_count": 144,
   "metadata": {},
   "outputs": [
    {
     "data": {
      "image/png": "[encoded data removed]",
      "text/plain": [
       "<Figure size 432x288 with 1 Axes>"
      ]
     },
     "metadata": {},
     "output_type": "display_data"
    }
   ],
   "source": [
    "simulate(+1,-1, eps=100);"
   ]
  },
  {
   "cell_type": "markdown",
   "metadata": {},
   "source": [
    "We see that all of the simulations \"relaxed\" to a solution which did not change for a long time (epsilon).\n",
    "Running the simulations multiple times showed that the (0,0) and (1,1) cases always converged to the correct pattern whereas the distinct cases were torn between the the correct state and its inverse.\n",
    "\n",
    "But why does the network converge at all?\n",
    "\n",
    "### Stability theory\n",
    "\n",
    "In system theory there is the quest to prove the stability of different kind of systems (see [here](https://en.wikipedia.org/wiki/Lyapunov_stability)). A system is said to be stable if small perturbations of the input data lead to small variations of the output value.\n",
    "\n",
    "Stability can be intuitively grasped by imagining the velocity and phase of a pendulum.\n",
    "See the image by [Krishnavedala](https://commons.wikimedia.org/wiki/File:Pendulum_phase_portrait_illustration.svg).\n",
    "\n",
    "![pendulum phase diagram](Pendulum_phase_portrait_illustration.svg.png)\n",
    "\n",
    "If the pendulum was damped the phase portrait would look like a spiral. \n",
    "The center to which it converges over time is a of point of attraction which is called **equilibrium**.\n",
    "The circle in the diagram is called \"orbit\". An important question is for example: Will the trajectory of a given initial state converge to the point or will it diverge.\n",
    "\n",
    "And what happens if the system gets \"pushed\" a little bit. A pendulum would oscilate a little bit and converge back to the **equilibrium** but a football on a hill would roll down.\n",
    "\n",
    "For linear systems we can use the magnitude of the derivative of a point a. If it is less than one the system is said to be stable. \n",
    "\n",
    "For more information see [Stability theory](https://en.wikipedia.org/wiki/Stability_theory) on Wikipedia.\n",
    "\n",
    "The **Lyapunov Function** can be used to show asymptotic stability (it gets really close) or lyapunov stability (all points which were at time t in an orbit are at t+1 in a small neighbourhood). It works by choosing a Lyapunov function which has an analogy to the **potential function** of classical dynamics. In real physical systems a precise Energy function can be used. You can imagine a state x of pendulum. If the system loses energy the system will reach a final resting point. The final state is the attractor.\n",
    "Lyapunov showed that it is not necessary to know the energy function but it is enough to find a Lyapunov function V(x) with the following criteria:\n",
    "\n",
    "- $V(0) = 0$\n",
    "- $V(x) > 0$ if $x \\ne 0$\n",
    "- $\\dot{V}(x) = \\frac{d}{dt}V(x) = \\nabla V \\cdot f(x) \\le 0$ if $x \\ne 0$\n",
    "\n",
    "[Lyapunov Stability](https://en.wikipedia.org/wiki/Lyapunov_stability)\n",
    "\n",
    "### Energy function\n",
    "\n",
    "Let's apply this to Binary Hopfield Networks. We saw in the simulation that the Hopfield nets converge. \n",
    "Will this always be the case?\n",
    "\n",
    "We choose our Energy function: $E = -0.5 \\sum_{j}{ \\sum_{i \\ne j}{u_i \\cdot u_j \\cdot T_{ji}} }$\n",
    "\n",
    "Actually we cannot assume to have a single global optimum on the surface of the energy function.\n",
    "At least every pattern we want to store should a local optimum. So we just show that the energy at t+1 is less or equal to t and therefore we always find a local optimum of the energy function.\n",
    "\n",
    "In our asynchronous, random update procedure we pick a unit u. It either has the state -1 and we change it to +1 or it has the state +1 and we change it to -1. In the first case the difference is \"+2\" and the the second one it is \"-2\". => $\\Delta u_j \\in \\{ -2, +2 \\}$ \n",
    "\n",
    "How does the energie of unit j change? \n",
    "\n",
    "$\\Delta E_j = E_{j_{new}} - E_{j_{old}} = $\n",
    "\n",
    "$ -0.5 \\sum_{i \\ne j}{u_{i} u_{j_{new}} T_{ji}} -0.5 \\sum_{i \\ne j}{u_i u_j T_{ji}} = $\n",
    "\n",
    "$ -0.5 \\cdot (\\sum_{i \\ne j}{u_{i} u_{j_{new}} T_{ji}} -\\sum_{i \\ne j}{u_i u_j T_{ji}} ) = $\n",
    "\n",
    "$ -0.5 \\cdot (\\sum_{i \\ne j}{u_{i} u_{j_{new}} T_{ji} -{u_i u_j T_{ji}}} ) = $\n",
    "\n",
    "$ -0.5 \\cdot (\\sum_{i \\ne j}{u_{i} \\cdot T_{ji} \\cdot (u_{j_{new}} - u_j}) ) = $\n",
    "\n",
    "Define: $\\Delta u_j = u_{j_{new}} - u_j$ \n",
    "\n",
    "$ -0.5 \\cdot (\\sum_{i \\ne j}{u_{i} \\cdot T_{ji} \\cdot \\Delta u_j }) = $\n",
    "\n",
    "$ -0.5 \\Delta u_j (\\sum_{i \\ne j}{u_{i} \\cdot T_{ji} }) = $\n",
    "\n",
    "\n",
    "Two possible cases for the neuron j:\n",
    "- \"+2\" case: The weighted neighbours are greater equal zero ($\\sum_{i \\ne j}{u_{i} \\cdot T_{ji} } >= 0$)\n",
    "\n",
    "    $\\Delta u_j=+2$\n",
    "\n",
    "    $ \\Delta E_j = -1 \\cdot (\\sum_{i \\ne j}{u_{i} \\cdot T_{ji} }) \\le 0 $\n",
    "    \n",
    "    \n",
    "- \"-2\" case: The weighted neighbours are less than zero ($\\sum_{i \\ne j}{u_{i} \\cdot T_{ji} } < 0$)\n",
    "\n",
    "    $\\Delta u_j=-2$\n",
    "\n",
    "    $ \\Delta E_j = +1 \\cdot (\\sum_{i \\ne j}{u_{i} \\cdot T_{ji} }) < 0 $\n",
    "\n",
    "**Conclusion:** In both cases the energy either reduces or stays the same. Every minimum of the energy function is a stable state. \n",
    "\n",
    "![Energy visualization](lyapunov function.png)\n",
    "\n",
    "In the example of the associative memory we see that a pattern (state) can only converge to the correct solution (pattern) if it is in its attractor region. Imagine a 2d hill. On which side of the hill we roll down is determined by the random sampling process. This explains why the \"AND-simulation\" from above can converge into different states.\n",
    "\n",
    "**Note:** Not all attractor regions have the same size. Therefore one state can attract more patterns than another. For the associative memory this leads to some kind of prior.\n",
    "Additionally mixture of an odd number of patterns cause **mixture states** which do not correspond to real patterns.\n",
    "\n",
    "If we try to store too many patterns so called **spin glass** states are generated. They are no linear combination of the original states. A network of N units has the capacity to store ~ 0.15N uncorrelated patterns.\n",
    "\n",
    "More math about Hopfield nets [here](https://page.mi.fu-berlin.de/rojas/neural/chapter/K13.pdf).\n",
    "\n",
    "### Ising model\n",
    "\n",
    "Hopfield nets are isomorph to the **Ising model** in statistical physics which is used to model magnetism at low temperatures. Every neuron equals an atom in a solid body. The state of the unit coincides with the spin (the magnetic moment).\n",
    "In the **Heisenbergmodel** the spin can be multivariate. In the **Ising model** the spin is either parallel or antiparallel to a given axis z). The latter can be written as the Binary Hopfield Network.\n",
    "\n",
    "In physics the energy of the atoms is \"measured\" with the **Hamilton operator H**. It is the sum of the potential and kinetic energies in the system.\n",
    "\n",
    "$ H = -0.5 \\sum_{ij} T_{ij} \\cdot s_i \\cdot s_j - H_z \\sum_{i=1}{s_i} $\n",
    "\n",
    "- $s_i$ the spin of an atom\n",
    "- $T_{ij}$ the coupling constant between the spin of two atoms\n",
    "- $H$ is the strength of the magnetic field\n",
    "\n",
    "The critical temperature was calculated with this model. A system with less than its critical temperature is dominated by quantum mechanical effects.\n"
   ]
  }
 ],
 "metadata": {
  "kernelspec": {
   "display_name": "Python 3",
   "language": "python",
   "name": "python3"
  },
  "language_info": {
   "codemirror_mode": {
    "name": "ipython",
    "version": 3
   },
   "file_extension": ".py",
   "mimetype": "text/x-python",
   "name": "python",
   "nbconvert_exporter": "python",
   "pygments_lexer": "ipython3",
   "version": "3.5.2"
  }
 },
 "nbformat": 4,
 "nbformat_minor": 2
}
